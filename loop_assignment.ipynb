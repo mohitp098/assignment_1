{
 "cells": [
  {
   "cell_type": "code",
   "execution_count": 17,
   "id": "9939ddb4",
   "metadata": {},
   "outputs": [
    {
     "name": "stdout",
     "output_type": "stream",
     "text": [
      "1\n",
      "1\n",
      "2\n",
      "3\n",
      "5\n",
      "8\n",
      "13\n",
      "21\n",
      "34\n"
     ]
    }
   ],
   "source": [
    "# Write a Python program to get the Fibonacci series between 0 to 50\n",
    "n=50\n",
    "first=0\n",
    "second=1\n",
    "while (second<=n):\n",
    "    print(second)\n",
    "    end=first+second\n",
    "    first=second\n",
    "    second=end"
   ]
  },
  {
   "cell_type": "code",
   "execution_count": 18,
   "id": "1d9b1f7a",
   "metadata": {},
   "outputs": [
    {
     "name": "stdout",
     "output_type": "stream",
     "text": [
      "adoyde\n"
     ]
    }
   ],
   "source": [
    "#Write a Python program that accepts a word from the user and reverse it.\n",
    "\n",
    "list=('edyoda')\n",
    "mirror=list[::-1]\n",
    "print(mirror)"
   ]
  },
  {
   "cell_type": "code",
   "execution_count": 22,
   "id": "8b0532f9",
   "metadata": {},
   "outputs": [
    {
     "name": "stdout",
     "output_type": "stream",
     "text": [
      "Number of even numbers  4\n",
      "Number of odd numbers  5\n"
     ]
    }
   ],
   "source": [
    "#Write a Python program to count the number of even and odd numbers from a series of numbers.\n",
    "numbers = (1, 2, 3, 4, 5, 6, 7, 8, 9) \n",
    "even=0\n",
    "odd=0\n",
    "for n in numbers:\n",
    "    if n%2==0:\n",
    "        even+=1\n",
    "    else:\n",
    "        odd+=1\n",
    "        \n",
    "print('Number of even numbers ',even)  \n",
    "print('Number of odd numbers ',odd)"
   ]
  },
  {
   "cell_type": "code",
   "execution_count": null,
   "id": "2b318c1f",
   "metadata": {},
   "outputs": [],
   "source": []
  }
 ],
 "metadata": {
  "kernelspec": {
   "display_name": "Python 3 (ipykernel)",
   "language": "python",
   "name": "python3"
  },
  "language_info": {
   "codemirror_mode": {
    "name": "ipython",
    "version": 3
   },
   "file_extension": ".py",
   "mimetype": "text/x-python",
   "name": "python",
   "nbconvert_exporter": "python",
   "pygments_lexer": "ipython3",
   "version": "3.9.6"
  }
 },
 "nbformat": 4,
 "nbformat_minor": 5
}
